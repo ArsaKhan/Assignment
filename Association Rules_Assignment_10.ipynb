{
  "nbformat": 4,
  "nbformat_minor": 0,
  "metadata": {
    "colab": {
      "provenance": []
    },
    "kernelspec": {
      "name": "python3",
      "display_name": "Python 3"
    },
    "language_info": {
      "name": "python"
    }
  },
  "cells": [
    {
      "cell_type": "markdown",
      "source": [
        "**Data Preprocessing:**"
      ],
      "metadata": {
        "id": "11ebcQgSxmDz"
      }
    },
    {
      "cell_type": "code",
      "execution_count": 1,
      "metadata": {
        "id": "sfJxQO_9wQPF"
      },
      "outputs": [],
      "source": [
        "import pandas as pd"
      ]
    },
    {
      "cell_type": "code",
      "source": [
        "# Load the dataset\n",
        "file_path = '/content/sample_data/Online retail.xlsx'\n",
        "df = pd.read_excel(file_path,header=None)"
      ],
      "metadata": {
        "id": "3OOp4olzx3fX"
      },
      "execution_count": 2,
      "outputs": []
    },
    {
      "cell_type": "code",
      "source": [
        "# Check for missing values\n",
        "print(\"\\nMissing Values:\")\n",
        "print(df.isnull().sum())"
      ],
      "metadata": {
        "colab": {
          "base_uri": "https://localhost:8080/"
        },
        "id": "D0JtthXmz_FR",
        "outputId": "85bb5110-3516-46ae-ecd8-f42bb7b43e7d"
      },
      "execution_count": 3,
      "outputs": [
        {
          "output_type": "stream",
          "name": "stdout",
          "text": [
            "\n",
            "Missing Values:\n",
            "0    0\n",
            "dtype: int64\n"
          ]
        }
      ]
    },
    {
      "cell_type": "code",
      "source": [
        "# Remove duplicates\n",
        "df.drop_duplicates(inplace=True)"
      ],
      "metadata": {
        "id": "ow_QpjIT0Hv_"
      },
      "execution_count": 4,
      "outputs": []
    },
    {
      "cell_type": "code",
      "source": [
        "print(df.columns)"
      ],
      "metadata": {
        "colab": {
          "base_uri": "https://localhost:8080/"
        },
        "id": "osk1cjZr09KD",
        "outputId": "5f14ba21-6793-495d-de24-63a865944d33"
      },
      "execution_count": 5,
      "outputs": [
        {
          "output_type": "stream",
          "name": "stdout",
          "text": [
            "Index([0], dtype='int64')\n"
          ]
        }
      ]
    },
    {
      "cell_type": "code",
      "source": [
        "df.info()"
      ],
      "metadata": {
        "colab": {
          "base_uri": "https://localhost:8080/"
        },
        "id": "msmLYJRP0-vL",
        "outputId": "41825c06-3fd7-4182-cabe-8e4ad334154a"
      },
      "execution_count": 6,
      "outputs": [
        {
          "output_type": "stream",
          "name": "stdout",
          "text": [
            "<class 'pandas.core.frame.DataFrame'>\n",
            "Index: 5176 entries, 0 to 7500\n",
            "Data columns (total 1 columns):\n",
            " #   Column  Non-Null Count  Dtype \n",
            "---  ------  --------------  ----- \n",
            " 0   0       5176 non-null   object\n",
            "dtypes: object(1)\n",
            "memory usage: 80.9+ KB\n"
          ]
        }
      ]
    },
    {
      "cell_type": "code",
      "source": [
        "# Split the items in each transaction into a list\n",
        "df['Transaction'] = df[0].apply(lambda x: x.split(','))\n",
        "\n",
        "# Remove duplicates within each transaction\n",
        "df['Transaction'] = df['Transaction'].apply(lambda x: list(set(x)))\n",
        "\n",
        "# Drop the original column\n",
        "df.drop(columns=[0], inplace=True)"
      ],
      "metadata": {
        "id": "10yu0JCf1ynd"
      },
      "execution_count": 7,
      "outputs": []
    },
    {
      "cell_type": "markdown",
      "source": [
        "**Association Rule Mining:**"
      ],
      "metadata": {
        "id": "PKHap4nQ2A3K"
      }
    },
    {
      "cell_type": "code",
      "source": [
        "from mlxtend.frequent_patterns import apriori, association_rules\n",
        "from mlxtend.preprocessing import TransactionEncoder"
      ],
      "metadata": {
        "id": "oUQpgM-Z2Ak5"
      },
      "execution_count": 8,
      "outputs": []
    },
    {
      "cell_type": "code",
      "source": [
        "# Prepare the data for the Apriori algorithm\n",
        "te = TransactionEncoder()\n",
        "te_ary = te.fit(df['Transaction']).transform(df['Transaction'])\n",
        "df_apriori = pd.DataFrame(te_ary, columns=te.columns_)"
      ],
      "metadata": {
        "colab": {
          "base_uri": "https://localhost:8080/"
        },
        "id": "ty3ww3pb2PKu",
        "outputId": "27ac17bd-76bf-4900-f721-b1cdf64c95f4"
      },
      "execution_count": 9,
      "outputs": [
        {
          "output_type": "stream",
          "name": "stderr",
          "text": [
            "/usr/local/lib/python3.10/dist-packages/ipykernel/ipkernel.py:283: DeprecationWarning: `should_run_async` will not call `transform_cell` automatically in the future. Please pass the result to `transformed_cell` argument and any exception that happen during thetransform in `preprocessing_exc_tuple` in IPython 7.17 and above.\n",
            "  and should_run_async(code)\n"
          ]
        }
      ]
    },
    {
      "cell_type": "code",
      "source": [
        "# Apply the Apriori algorithm\n",
        "frequent_itemsets = apriori(df_apriori, min_support=0.01, use_colnames=True)"
      ],
      "metadata": {
        "colab": {
          "base_uri": "https://localhost:8080/"
        },
        "id": "Xff60ipK2UW8",
        "outputId": "23688516-d394-44cf-8d47-4ae7ba0d3958"
      },
      "execution_count": 10,
      "outputs": [
        {
          "output_type": "stream",
          "name": "stderr",
          "text": [
            "/usr/local/lib/python3.10/dist-packages/ipykernel/ipkernel.py:283: DeprecationWarning: `should_run_async` will not call `transform_cell` automatically in the future. Please pass the result to `transformed_cell` argument and any exception that happen during thetransform in `preprocessing_exc_tuple` in IPython 7.17 and above.\n",
            "  and should_run_async(code)\n"
          ]
        }
      ]
    },
    {
      "cell_type": "code",
      "source": [
        "# Generate the association rules\n",
        "rules = association_rules(frequent_itemsets, metric=\"lift\", min_threshold=1.0)\n",
        "# Display the results\n",
        "rules.sort_values(by='lift', ascending=False).head()"
      ],
      "metadata": {
        "colab": {
          "base_uri": "https://localhost:8080/",
          "height": 261
        },
        "id": "Unf79-YQ2Vp_",
        "outputId": "3ff21e32-7394-40ee-afd4-a05ed137dfc0"
      },
      "execution_count": 11,
      "outputs": [
        {
          "output_type": "stream",
          "name": "stderr",
          "text": [
            "/usr/local/lib/python3.10/dist-packages/ipykernel/ipkernel.py:283: DeprecationWarning: `should_run_async` will not call `transform_cell` automatically in the future. Please pass the result to `transformed_cell` argument and any exception that happen during thetransform in `preprocessing_exc_tuple` in IPython 7.17 and above.\n",
            "  and should_run_async(code)\n"
          ]
        },
        {
          "output_type": "execute_result",
          "data": {
            "text/plain": [
              "               antecedents            consequents  antecedent support  \\\n",
              "425    (whole wheat pasta)            (olive oil)            0.040572   \n",
              "424            (olive oil)    (whole wheat pasta)            0.087713   \n",
              "794  (mineral water, milk)                 (soup)            0.067813   \n",
              "795                 (soup)  (mineral water, milk)            0.070904   \n",
              "298          (ground beef)        (herb & pepper)            0.135819   \n",
              "\n",
              "     consequent support   support  confidence      lift  leverage  conviction  \\\n",
              "425            0.087713  0.011012    0.271429  3.094525  0.007454    1.252159   \n",
              "424            0.040572  0.011012    0.125551  3.094525  0.007454    1.097180   \n",
              "794            0.070904  0.012365    0.182336  2.571586  0.007557    1.136281   \n",
              "795            0.067813  0.012365    0.174387  2.571586  0.007557    1.129085   \n",
              "298            0.066461  0.022798    0.167852  2.525588  0.013771    1.121843   \n",
              "\n",
              "     zhangs_metric  \n",
              "425       0.705471  \n",
              "424       0.741925  \n",
              "794       0.655593  \n",
              "795       0.657774  \n",
              "298       0.698989  "
            ],
            "text/html": [
              "\n",
              "  <div id=\"df-23ad41af-f246-48c3-9a59-6142bc5da4da\" class=\"colab-df-container\">\n",
              "    <div>\n",
              "<style scoped>\n",
              "    .dataframe tbody tr th:only-of-type {\n",
              "        vertical-align: middle;\n",
              "    }\n",
              "\n",
              "    .dataframe tbody tr th {\n",
              "        vertical-align: top;\n",
              "    }\n",
              "\n",
              "    .dataframe thead th {\n",
              "        text-align: right;\n",
              "    }\n",
              "</style>\n",
              "<table border=\"1\" class=\"dataframe\">\n",
              "  <thead>\n",
              "    <tr style=\"text-align: right;\">\n",
              "      <th></th>\n",
              "      <th>antecedents</th>\n",
              "      <th>consequents</th>\n",
              "      <th>antecedent support</th>\n",
              "      <th>consequent support</th>\n",
              "      <th>support</th>\n",
              "      <th>confidence</th>\n",
              "      <th>lift</th>\n",
              "      <th>leverage</th>\n",
              "      <th>conviction</th>\n",
              "      <th>zhangs_metric</th>\n",
              "    </tr>\n",
              "  </thead>\n",
              "  <tbody>\n",
              "    <tr>\n",
              "      <th>425</th>\n",
              "      <td>(whole wheat pasta)</td>\n",
              "      <td>(olive oil)</td>\n",
              "      <td>0.040572</td>\n",
              "      <td>0.087713</td>\n",
              "      <td>0.011012</td>\n",
              "      <td>0.271429</td>\n",
              "      <td>3.094525</td>\n",
              "      <td>0.007454</td>\n",
              "      <td>1.252159</td>\n",
              "      <td>0.705471</td>\n",
              "    </tr>\n",
              "    <tr>\n",
              "      <th>424</th>\n",
              "      <td>(olive oil)</td>\n",
              "      <td>(whole wheat pasta)</td>\n",
              "      <td>0.087713</td>\n",
              "      <td>0.040572</td>\n",
              "      <td>0.011012</td>\n",
              "      <td>0.125551</td>\n",
              "      <td>3.094525</td>\n",
              "      <td>0.007454</td>\n",
              "      <td>1.097180</td>\n",
              "      <td>0.741925</td>\n",
              "    </tr>\n",
              "    <tr>\n",
              "      <th>794</th>\n",
              "      <td>(mineral water, milk)</td>\n",
              "      <td>(soup)</td>\n",
              "      <td>0.067813</td>\n",
              "      <td>0.070904</td>\n",
              "      <td>0.012365</td>\n",
              "      <td>0.182336</td>\n",
              "      <td>2.571586</td>\n",
              "      <td>0.007557</td>\n",
              "      <td>1.136281</td>\n",
              "      <td>0.655593</td>\n",
              "    </tr>\n",
              "    <tr>\n",
              "      <th>795</th>\n",
              "      <td>(soup)</td>\n",
              "      <td>(mineral water, milk)</td>\n",
              "      <td>0.070904</td>\n",
              "      <td>0.067813</td>\n",
              "      <td>0.012365</td>\n",
              "      <td>0.174387</td>\n",
              "      <td>2.571586</td>\n",
              "      <td>0.007557</td>\n",
              "      <td>1.129085</td>\n",
              "      <td>0.657774</td>\n",
              "    </tr>\n",
              "    <tr>\n",
              "      <th>298</th>\n",
              "      <td>(ground beef)</td>\n",
              "      <td>(herb &amp; pepper)</td>\n",
              "      <td>0.135819</td>\n",
              "      <td>0.066461</td>\n",
              "      <td>0.022798</td>\n",
              "      <td>0.167852</td>\n",
              "      <td>2.525588</td>\n",
              "      <td>0.013771</td>\n",
              "      <td>1.121843</td>\n",
              "      <td>0.698989</td>\n",
              "    </tr>\n",
              "  </tbody>\n",
              "</table>\n",
              "</div>\n",
              "    <div class=\"colab-df-buttons\">\n",
              "\n",
              "  <div class=\"colab-df-container\">\n",
              "    <button class=\"colab-df-convert\" onclick=\"convertToInteractive('df-23ad41af-f246-48c3-9a59-6142bc5da4da')\"\n",
              "            title=\"Convert this dataframe to an interactive table.\"\n",
              "            style=\"display:none;\">\n",
              "\n",
              "  <svg xmlns=\"http://www.w3.org/2000/svg\" height=\"24px\" viewBox=\"0 -960 960 960\">\n",
              "    <path d=\"M120-120v-720h720v720H120Zm60-500h600v-160H180v160Zm220 220h160v-160H400v160Zm0 220h160v-160H400v160ZM180-400h160v-160H180v160Zm440 0h160v-160H620v160ZM180-180h160v-160H180v160Zm440 0h160v-160H620v160Z\"/>\n",
              "  </svg>\n",
              "    </button>\n",
              "\n",
              "  <style>\n",
              "    .colab-df-container {\n",
              "      display:flex;\n",
              "      gap: 12px;\n",
              "    }\n",
              "\n",
              "    .colab-df-convert {\n",
              "      background-color: #E8F0FE;\n",
              "      border: none;\n",
              "      border-radius: 50%;\n",
              "      cursor: pointer;\n",
              "      display: none;\n",
              "      fill: #1967D2;\n",
              "      height: 32px;\n",
              "      padding: 0 0 0 0;\n",
              "      width: 32px;\n",
              "    }\n",
              "\n",
              "    .colab-df-convert:hover {\n",
              "      background-color: #E2EBFA;\n",
              "      box-shadow: 0px 1px 2px rgba(60, 64, 67, 0.3), 0px 1px 3px 1px rgba(60, 64, 67, 0.15);\n",
              "      fill: #174EA6;\n",
              "    }\n",
              "\n",
              "    .colab-df-buttons div {\n",
              "      margin-bottom: 4px;\n",
              "    }\n",
              "\n",
              "    [theme=dark] .colab-df-convert {\n",
              "      background-color: #3B4455;\n",
              "      fill: #D2E3FC;\n",
              "    }\n",
              "\n",
              "    [theme=dark] .colab-df-convert:hover {\n",
              "      background-color: #434B5C;\n",
              "      box-shadow: 0px 1px 3px 1px rgba(0, 0, 0, 0.15);\n",
              "      filter: drop-shadow(0px 1px 2px rgba(0, 0, 0, 0.3));\n",
              "      fill: #FFFFFF;\n",
              "    }\n",
              "  </style>\n",
              "\n",
              "    <script>\n",
              "      const buttonEl =\n",
              "        document.querySelector('#df-23ad41af-f246-48c3-9a59-6142bc5da4da button.colab-df-convert');\n",
              "      buttonEl.style.display =\n",
              "        google.colab.kernel.accessAllowed ? 'block' : 'none';\n",
              "\n",
              "      async function convertToInteractive(key) {\n",
              "        const element = document.querySelector('#df-23ad41af-f246-48c3-9a59-6142bc5da4da');\n",
              "        const dataTable =\n",
              "          await google.colab.kernel.invokeFunction('convertToInteractive',\n",
              "                                                    [key], {});\n",
              "        if (!dataTable) return;\n",
              "\n",
              "        const docLinkHtml = 'Like what you see? Visit the ' +\n",
              "          '<a target=\"_blank\" href=https://colab.research.google.com/notebooks/data_table.ipynb>data table notebook</a>'\n",
              "          + ' to learn more about interactive tables.';\n",
              "        element.innerHTML = '';\n",
              "        dataTable['output_type'] = 'display_data';\n",
              "        await google.colab.output.renderOutput(dataTable, element);\n",
              "        const docLink = document.createElement('div');\n",
              "        docLink.innerHTML = docLinkHtml;\n",
              "        element.appendChild(docLink);\n",
              "      }\n",
              "    </script>\n",
              "  </div>\n",
              "\n",
              "\n",
              "<div id=\"df-8b5f01a4-4c4d-4f47-8239-25a5ebbd42af\">\n",
              "  <button class=\"colab-df-quickchart\" onclick=\"quickchart('df-8b5f01a4-4c4d-4f47-8239-25a5ebbd42af')\"\n",
              "            title=\"Suggest charts\"\n",
              "            style=\"display:none;\">\n",
              "\n",
              "<svg xmlns=\"http://www.w3.org/2000/svg\" height=\"24px\"viewBox=\"0 0 24 24\"\n",
              "     width=\"24px\">\n",
              "    <g>\n",
              "        <path d=\"M19 3H5c-1.1 0-2 .9-2 2v14c0 1.1.9 2 2 2h14c1.1 0 2-.9 2-2V5c0-1.1-.9-2-2-2zM9 17H7v-7h2v7zm4 0h-2V7h2v10zm4 0h-2v-4h2v4z\"/>\n",
              "    </g>\n",
              "</svg>\n",
              "  </button>\n",
              "\n",
              "<style>\n",
              "  .colab-df-quickchart {\n",
              "      --bg-color: #E8F0FE;\n",
              "      --fill-color: #1967D2;\n",
              "      --hover-bg-color: #E2EBFA;\n",
              "      --hover-fill-color: #174EA6;\n",
              "      --disabled-fill-color: #AAA;\n",
              "      --disabled-bg-color: #DDD;\n",
              "  }\n",
              "\n",
              "  [theme=dark] .colab-df-quickchart {\n",
              "      --bg-color: #3B4455;\n",
              "      --fill-color: #D2E3FC;\n",
              "      --hover-bg-color: #434B5C;\n",
              "      --hover-fill-color: #FFFFFF;\n",
              "      --disabled-bg-color: #3B4455;\n",
              "      --disabled-fill-color: #666;\n",
              "  }\n",
              "\n",
              "  .colab-df-quickchart {\n",
              "    background-color: var(--bg-color);\n",
              "    border: none;\n",
              "    border-radius: 50%;\n",
              "    cursor: pointer;\n",
              "    display: none;\n",
              "    fill: var(--fill-color);\n",
              "    height: 32px;\n",
              "    padding: 0;\n",
              "    width: 32px;\n",
              "  }\n",
              "\n",
              "  .colab-df-quickchart:hover {\n",
              "    background-color: var(--hover-bg-color);\n",
              "    box-shadow: 0 1px 2px rgba(60, 64, 67, 0.3), 0 1px 3px 1px rgba(60, 64, 67, 0.15);\n",
              "    fill: var(--button-hover-fill-color);\n",
              "  }\n",
              "\n",
              "  .colab-df-quickchart-complete:disabled,\n",
              "  .colab-df-quickchart-complete:disabled:hover {\n",
              "    background-color: var(--disabled-bg-color);\n",
              "    fill: var(--disabled-fill-color);\n",
              "    box-shadow: none;\n",
              "  }\n",
              "\n",
              "  .colab-df-spinner {\n",
              "    border: 2px solid var(--fill-color);\n",
              "    border-color: transparent;\n",
              "    border-bottom-color: var(--fill-color);\n",
              "    animation:\n",
              "      spin 1s steps(1) infinite;\n",
              "  }\n",
              "\n",
              "  @keyframes spin {\n",
              "    0% {\n",
              "      border-color: transparent;\n",
              "      border-bottom-color: var(--fill-color);\n",
              "      border-left-color: var(--fill-color);\n",
              "    }\n",
              "    20% {\n",
              "      border-color: transparent;\n",
              "      border-left-color: var(--fill-color);\n",
              "      border-top-color: var(--fill-color);\n",
              "    }\n",
              "    30% {\n",
              "      border-color: transparent;\n",
              "      border-left-color: var(--fill-color);\n",
              "      border-top-color: var(--fill-color);\n",
              "      border-right-color: var(--fill-color);\n",
              "    }\n",
              "    40% {\n",
              "      border-color: transparent;\n",
              "      border-right-color: var(--fill-color);\n",
              "      border-top-color: var(--fill-color);\n",
              "    }\n",
              "    60% {\n",
              "      border-color: transparent;\n",
              "      border-right-color: var(--fill-color);\n",
              "    }\n",
              "    80% {\n",
              "      border-color: transparent;\n",
              "      border-right-color: var(--fill-color);\n",
              "      border-bottom-color: var(--fill-color);\n",
              "    }\n",
              "    90% {\n",
              "      border-color: transparent;\n",
              "      border-bottom-color: var(--fill-color);\n",
              "    }\n",
              "  }\n",
              "</style>\n",
              "\n",
              "  <script>\n",
              "    async function quickchart(key) {\n",
              "      const quickchartButtonEl =\n",
              "        document.querySelector('#' + key + ' button');\n",
              "      quickchartButtonEl.disabled = true;  // To prevent multiple clicks.\n",
              "      quickchartButtonEl.classList.add('colab-df-spinner');\n",
              "      try {\n",
              "        const charts = await google.colab.kernel.invokeFunction(\n",
              "            'suggestCharts', [key], {});\n",
              "      } catch (error) {\n",
              "        console.error('Error during call to suggestCharts:', error);\n",
              "      }\n",
              "      quickchartButtonEl.classList.remove('colab-df-spinner');\n",
              "      quickchartButtonEl.classList.add('colab-df-quickchart-complete');\n",
              "    }\n",
              "    (() => {\n",
              "      let quickchartButtonEl =\n",
              "        document.querySelector('#df-8b5f01a4-4c4d-4f47-8239-25a5ebbd42af button');\n",
              "      quickchartButtonEl.style.display =\n",
              "        google.colab.kernel.accessAllowed ? 'block' : 'none';\n",
              "    })();\n",
              "  </script>\n",
              "</div>\n",
              "\n",
              "    </div>\n",
              "  </div>\n"
            ],
            "application/vnd.google.colaboratory.intrinsic+json": {
              "type": "dataframe",
              "summary": "{\n  \"name\": \"rules\",\n  \"rows\": 5,\n  \"fields\": [\n    {\n      \"column\": \"antecedents\",\n      \"properties\": {\n        \"dtype\": \"string\",\n        \"num_unique_values\": 5,\n        \"samples\": [\n          \"frozenset({'olive oil'})\",\n          \"frozenset({'ground beef'})\",\n          \"frozenset({'mineral water', 'milk'})\"\n        ],\n        \"semantic_type\": \"\",\n        \"description\": \"\"\n      }\n    },\n    {\n      \"column\": \"consequents\",\n      \"properties\": {\n        \"dtype\": \"string\",\n        \"num_unique_values\": 5,\n        \"samples\": [\n          \"frozenset({'whole wheat pasta'})\",\n          \"frozenset({'herb & pepper'})\",\n          \"frozenset({'soup'})\"\n        ],\n        \"semantic_type\": \"\",\n        \"description\": \"\"\n      }\n    },\n    {\n      \"column\": \"antecedent support\",\n      \"properties\": {\n        \"dtype\": \"number\",\n        \"std\": 0.03521187927359281,\n        \"min\": 0.040571870170015456,\n        \"max\": 0.13581916537867078,\n        \"num_unique_values\": 5,\n        \"samples\": [\n          0.08771251931993818,\n          0.13581916537867078,\n          0.06781298299845441\n        ],\n        \"semantic_type\": \"\",\n        \"description\": \"\"\n      }\n    },\n    {\n      \"column\": \"consequent support\",\n      \"properties\": {\n        \"dtype\": \"number\",\n        \"std\": 0.01690544269528367,\n        \"min\": 0.040571870170015456,\n        \"max\": 0.08771251931993818,\n        \"num_unique_values\": 5,\n        \"samples\": [\n          0.040571870170015456,\n          0.06646058732612056,\n          0.07090417310664605\n        ],\n        \"semantic_type\": \"\",\n        \"description\": \"\"\n      }\n    },\n    {\n      \"column\": \"support\",\n      \"properties\": {\n        \"dtype\": \"number\",\n        \"std\": 0.005013886890402232,\n        \"min\": 0.011012364760432767,\n        \"max\": 0.022797527047913446,\n        \"num_unique_values\": 3,\n        \"samples\": [\n          0.011012364760432767,\n          0.012364760432766615,\n          0.022797527047913446\n        ],\n        \"semantic_type\": \"\",\n        \"description\": \"\"\n      }\n    },\n    {\n      \"column\": \"confidence\",\n      \"properties\": {\n        \"dtype\": \"number\",\n        \"std\": 0.053421747877506996,\n        \"min\": 0.12555066079295155,\n        \"max\": 0.27142857142857146,\n        \"num_unique_values\": 5,\n        \"samples\": [\n          0.12555066079295155,\n          0.1678520625889047,\n          0.18233618233618232\n        ],\n        \"semantic_type\": \"\",\n        \"description\": \"\"\n      }\n    },\n    {\n      \"column\": \"lift\",\n      \"properties\": {\n        \"dtype\": \"number\",\n        \"std\": 0.29542087825795293,\n        \"min\": 2.525588011512124,\n        \"max\": 3.0945248584015106,\n        \"num_unique_values\": 3,\n        \"samples\": [\n          3.0945248584015106,\n          2.5715860484252855,\n          2.525588011512124\n        ],\n        \"semantic_type\": \"\",\n        \"description\": \"\"\n      }\n    },\n    {\n      \"column\": \"leverage\",\n      \"properties\": {\n        \"dtype\": \"number\",\n        \"std\": 0.0028026159944386495,\n        \"min\": 0.007453703814299263,\n        \"max\": 0.013770905546703486,\n        \"num_unique_values\": 3,\n        \"samples\": [\n          0.007453703814299263,\n          0.007556536947366158,\n          0.013770905546703486\n        ],\n        \"semantic_type\": \"\",\n        \"description\": \"\"\n      }\n    },\n    {\n      \"column\": \"conviction\",\n      \"properties\": {\n        \"dtype\": \"number\",\n        \"std\": 0.06043339463145582,\n        \"min\": 1.0971797756745918,\n        \"max\": 1.2521592872079281,\n        \"num_unique_values\": 5,\n        \"samples\": [\n          1.0971797756745918,\n          1.121843089076474,\n          1.1362809590228822\n        ],\n        \"semantic_type\": \"\",\n        \"description\": \"\"\n      }\n    },\n    {\n      \"column\": \"zhangs_metric\",\n      \"properties\": {\n        \"dtype\": \"number\",\n        \"std\": 0.036123735306807604,\n        \"min\": 0.6555926165803109,\n        \"max\": 0.7419246973851401,\n        \"num_unique_values\": 5,\n        \"samples\": [\n          0.7419246973851401,\n          0.6989886588836219,\n          0.6555926165803109\n        ],\n        \"semantic_type\": \"\",\n        \"description\": \"\"\n      }\n    }\n  ]\n}"
            }
          },
          "metadata": {},
          "execution_count": 11
        }
      ]
    },
    {
      "cell_type": "code",
      "source": [
        "top_rules = rules.sort_values(by='lift', ascending=False).head(10)\n",
        "print(top_rules)"
      ],
      "metadata": {
        "colab": {
          "base_uri": "https://localhost:8080/"
        },
        "id": "J6UIAPks3BaG",
        "outputId": "f20d7a42-1187-402e-a5bb-3cda46be316e"
      },
      "execution_count": 12,
      "outputs": [
        {
          "output_type": "stream",
          "name": "stdout",
          "text": [
            "                        antecedents                     consequents  \\\n",
            "425             (whole wheat pasta)                     (olive oil)   \n",
            "424                     (olive oil)             (whole wheat pasta)   \n",
            "794           (mineral water, milk)                          (soup)   \n",
            "795                          (soup)           (mineral water, milk)   \n",
            "298                   (ground beef)                 (herb & pepper)   \n",
            "299                 (herb & pepper)                   (ground beef)   \n",
            "734         (shrimp, mineral water)             (frozen vegetables)   \n",
            "739             (frozen vegetables)         (shrimp, mineral water)   \n",
            "718  (spaghetti, frozen vegetables)                   (ground beef)   \n",
            "719                   (ground beef)  (spaghetti, frozen vegetables)   \n",
            "\n",
            "     antecedent support  consequent support   support  confidence      lift  \\\n",
            "425            0.040572            0.087713  0.011012    0.271429  3.094525   \n",
            "424            0.087713            0.040572  0.011012    0.125551  3.094525   \n",
            "794            0.067813            0.070904  0.012365    0.182336  2.571586   \n",
            "795            0.070904            0.067813  0.012365    0.174387  2.571586   \n",
            "298            0.135819            0.066461  0.022798    0.167852  2.525588   \n",
            "299            0.066461            0.135819  0.022798    0.343023  2.525588   \n",
            "734            0.033617            0.129830  0.010433    0.310345  2.390394   \n",
            "739            0.129830            0.033617  0.010433    0.080357  2.390394   \n",
            "718            0.039026            0.135819  0.012558    0.321782  2.369196   \n",
            "719            0.135819            0.039026  0.012558    0.092461  2.369196   \n",
            "\n",
            "     leverage  conviction  zhangs_metric  \n",
            "425  0.007454    1.252159       0.705471  \n",
            "424  0.007454    1.097180       0.741925  \n",
            "794  0.007557    1.136281       0.655593  \n",
            "795  0.007557    1.129085       0.657774  \n",
            "298  0.013771    1.121843       0.698989  \n",
            "299  0.013771    1.315390       0.647056  \n",
            "734  0.006068    1.261747       0.601893  \n",
            "739  0.006068    1.050825       0.668443  \n",
            "718  0.007257    1.274194       0.601386  \n",
            "719  0.007257    1.058879       0.668744  \n"
          ]
        },
        {
          "output_type": "stream",
          "name": "stderr",
          "text": [
            "/usr/local/lib/python3.10/dist-packages/ipykernel/ipkernel.py:283: DeprecationWarning: `should_run_async` will not call `transform_cell` automatically in the future. Please pass the result to `transformed_cell` argument and any exception that happen during thetransform in `preprocessing_exc_tuple` in IPython 7.17 and above.\n",
            "  and should_run_async(code)\n"
          ]
        }
      ]
    },
    {
      "cell_type": "markdown",
      "source": [
        "**Analysis and Interpretation:**"
      ],
      "metadata": {
        "id": "9_gdupjL32Jj"
      }
    },
    {
      "cell_type": "code",
      "source": [
        "# Sort rules by confidence and lift\n",
        "rules_sorted = rules.sort_values(by=['confidence', 'lift'], ascending=False)\n",
        "\n",
        "# Display the top 10 rules\n",
        "print(rules_sorted.head(10))"
      ],
      "metadata": {
        "colab": {
          "base_uri": "https://localhost:8080/"
        },
        "id": "F7XBSHD635yQ",
        "outputId": "b05d2a9c-6336-417a-b4f9-56d92c2135ea"
      },
      "execution_count": 13,
      "outputs": [
        {
          "output_type": "stream",
          "name": "stdout",
          "text": [
            "                          antecedents      consequents  antecedent support  \\\n",
            "793                      (soup, milk)  (mineral water)            0.021445   \n",
            "711  (ground beef, frozen vegetables)  (mineral water)            0.024536   \n",
            "829                 (soup, spaghetti)  (mineral water)            0.020672   \n",
            "763           (ground beef, pancakes)  (mineral water)            0.020866   \n",
            "498              (chocolate, chicken)  (mineral water)            0.021252   \n",
            "775                 (olive oil, milk)  (mineral water)            0.024150   \n",
            "717  (ground beef, frozen vegetables)      (spaghetti)            0.024536   \n",
            "598            (chocolate, olive oil)  (mineral water)            0.023570   \n",
            "751               (ground beef, milk)  (mineral water)            0.031685   \n",
            "667               (ground beef, eggs)  (mineral water)            0.028787   \n",
            "\n",
            "     consequent support   support  confidence      lift  leverage  conviction  \\\n",
            "793            0.299845  0.012365    0.576577  1.922913  0.005935    1.653557   \n",
            "711            0.299845  0.013331    0.543307  1.811957  0.005974    1.533097   \n",
            "829            0.299845  0.010819    0.523364  1.745448  0.004621    1.468952   \n",
            "763            0.299845  0.010819    0.518519  1.729286  0.004563    1.454167   \n",
            "498            0.299845  0.011012    0.518182  1.728163  0.004640    1.453151   \n",
            "775            0.299845  0.012365    0.512000  1.707546  0.005124    1.434743   \n",
            "717            0.229521  0.012558    0.511811  2.229911  0.006926    1.578240   \n",
            "598            0.299845  0.011978    0.508197  1.694862  0.004911    1.423648   \n",
            "751            0.299845  0.016036    0.506098  1.687861  0.006535    1.417597   \n",
            "667            0.299845  0.014490    0.503356  1.678717  0.005858    1.409771   \n",
            "\n",
            "     zhangs_metric  \n",
            "793       0.490474  \n",
            "711       0.459382  \n",
            "829       0.436096  \n",
            "763       0.430714  \n",
            "498       0.430500  \n",
            "775       0.424619  \n",
            "717       0.565425  \n",
            "598       0.419878  \n",
            "751       0.420869  \n",
            "667       0.416291  \n"
          ]
        },
        {
          "output_type": "stream",
          "name": "stderr",
          "text": [
            "/usr/local/lib/python3.10/dist-packages/ipykernel/ipkernel.py:283: DeprecationWarning: `should_run_async` will not call `transform_cell` automatically in the future. Please pass the result to `transformed_cell` argument and any exception that happen during thetransform in `preprocessing_exc_tuple` in IPython 7.17 and above.\n",
            "  and should_run_async(code)\n"
          ]
        }
      ]
    },
    {
      "cell_type": "markdown",
      "source": [
        "**Support:** Indicates how frequently the itemset appears in the dataset.\n",
        "Confidence: Measures the likelihood that the presence of the antecedent (left-hand side) leads to the consequent (right-hand side).\n",
        "\n",
        "**Lift:**Indicates how much more likely the consequent is given the antecedent compared to random chance. A lift value greater than 1 indicates a strong positive association."
      ],
      "metadata": {
        "id": "4t5zNHKA4Mmb"
      }
    },
    {
      "cell_type": "markdown",
      "source": [
        "2. Interpret the results and provide insights into customer purchasing behaviour based on the discovered rules."
      ],
      "metadata": {
        "id": "UJkZ_5497w8p"
      }
    },
    {
      "cell_type": "markdown",
      "source": [
        "Based on the discovered association rules:\n",
        "\n",
        "### 1. **High Lift Values:**\n",
        "   - **Interpretation:** A high lift value (greater than 1) indicates that the items in the rule have a strong positive association, meaning customers who purchase one item are much more likely to purchase the other compared to random chance.\n",
        "   - **Insight:** For example, if the rule \"mineral water\" → \"salmon\" has a high lift, it suggests that customers who buy mineral water are significantly more likely to also purchase salmon. This could be used for targeted promotions or product placements.\n",
        "\n",
        "### 2. **High Confidence Rules:**\n",
        "   - **Interpretation:** High confidence (close to 1) means that when the antecedent is purchased, the consequent is frequently purchased as well.\n",
        "   - **Insight:** If \"chocolate\" → \"cookies\" shows high confidence, customers who buy chocolate almost always buy cookies. You could bundle these items or offer discounts on one when the other is purchased.\n",
        "\n",
        "### 3. **Frequent Itemsets with High Support:**\n",
        "   - **Interpretation:** High support indicates that a particular combination of items is commonly purchased together.\n",
        "   - **Insight:** If \"bread, butter\" has high support, these items are frequently bought together. Consider placing these items near each other in the store or offering a combined discount.\n",
        "\n",
        "### 4. **Cross-Selling Opportunities:**\n",
        "   - **Interpretation:** Identify products that are frequently bought together but are not typically associated, offering cross-selling opportunities.\n",
        "   - **Insight:** If \"green tea\" → \"honey\" has a strong rule, promoting honey alongside green tea could increase sales of both.\n",
        "\n",
        "### 5. **Product Affinity:**\n",
        "   - **Interpretation:** The rules can help identify product affinities that indicate customer preferences and shopping habits.\n",
        "   - **Insight:** If several rules suggest that customers who buy healthy products like \"spinach, olive oil, avocado\" also buy \"low fat yogurt\", it shows a trend towards health-conscious shopping.\n",
        "\n",
        "\n",
        "The association rules provide valuable insights into customer purchasing behavior, helping you understand which products are commonly bought together. This can inform marketing strategies, product placements, and inventory management to enhance sales and customer satisfaction."
      ],
      "metadata": {
        "id": "H49xye0g7hp8"
      }
    },
    {
      "cell_type": "markdown",
      "source": [
        "**INTERVIEW QUESTIONS**"
      ],
      "metadata": {
        "id": "TOFzY_qh0BZC"
      }
    },
    {
      "cell_type": "markdown",
      "source": [
        "**1.\tWhat is lift and why is it important in Association rules?**"
      ],
      "metadata": {
        "id": "xVcpt15D0FiB"
      }
    },
    {
      "cell_type": "markdown",
      "source": [
        "**Lift** is a key metric in association rule mining that measures the strength of a rule over the baseline likelihood of the consequent (right-hand side) occurring independently of the antecedent (left-hand side).\n",
        "\n",
        "### **Definition of Lift:**\n",
        "Lift is defined as:\n",
        "\n",
        "\\[\n",
        "\\text{Lift} = \\frac{\\text{Confidence of the rule}}{\\text{Support of the consequent}}\n",
        "\\]\n",
        "\n",
        "Or alternatively:\n",
        "\n",
        "\\[\n",
        "\\text{Lift} = \\frac{P(A \\cap B)}{P(A) \\times P(B)}\n",
        "\\]\n",
        "\n",
        "Where:\n",
        "- \\( P(A \\cap B) \\) is the probability that both A and B occur together.\n",
        "- \\( P(A) \\) is the probability that A occurs.\n",
        "- \\( P(B) \\) is the probability that B occurs.\n",
        "\n",
        "### **Interpretation of Lift:**\n",
        "- **Lift > 1:** The presence of the antecedent increases the likelihood of the consequent. The items are positively associated, meaning they are more likely to be purchased together than by random chance.\n",
        "- **Lift = 1:** The antecedent and consequent are independent; knowing the antecedent does not provide any information about the consequent.\n",
        "- **Lift < 1:** The antecedent reduces the likelihood of the consequent, indicating a negative association.\n",
        "\n",
        "### **Importance of Lift in Association Rules:**\n",
        "1. **Measures Association Strength:** Lift helps identify rules that are not just frequent, but also statistically significant, showing a strong relationship between items.\n",
        "2. **Eliminates Coincidental Associations:** Unlike support and confidence, lift accounts for the overall occurrence of items, filtering out rules that are frequent only due to high individual item popularity.\n",
        "3. **Guides Decision-Making:** A high lift value indicates a meaningful pattern, useful for marketing strategies, cross-selling, and promotions."
      ],
      "metadata": {
        "id": "zaq3aw370PKr"
      }
    },
    {
      "cell_type": "markdown",
      "source": [
        "**2.\tWhat is support and Confidence. How do you calculate them?**"
      ],
      "metadata": {
        "id": "eDlbTyPP0iQ4"
      }
    },
    {
      "cell_type": "markdown",
      "source": [
        "**Support** and **Confidence** are two fundamental metrics used in association rule mining to evaluate the strength and relevance of discovered rules.\n",
        "\n",
        "### **1. Support:**\n",
        "\n",
        "**Definition:**\n",
        "- Support measures how frequently an itemset appears in the dataset. It reflects the proportion of transactions in the dataset that contain the itemset.\n",
        "\n",
        "**Calculation:**\n",
        "\\[\n",
        "\\text{Support} = \\frac{\\text{Number of transactions containing the itemset}}{\\text{Total number of transactions}}\n",
        "\\]\n",
        "\n",
        "**Example:**\n",
        "- If the itemset {bread, butter} appears in 100 out of 1,000 transactions, the support is:\n",
        "\\[\n",
        "\\text{Support} = \\frac{100}{1000} = 0.1\n",
        "\\]\n",
        "- This means 10% of all transactions contain both bread and butter.\n",
        "\n",
        "**Importance:**\n",
        "- Support helps identify itemsets that are commonly bought together. High support indicates a frequent pattern that may be of interest.\n",
        "\n",
        "### **2. Confidence:**\n",
        "\n",
        "**Definition:**\n",
        "- Confidence measures the likelihood that a transaction containing the antecedent (left-hand side) also contains the consequent (right-hand side). It represents the conditional probability of the consequent given the antecedent.\n",
        "\n",
        "**Calculation:**\n",
        "\\[\n",
        "\\text{Confidence} = \\frac{\\text{Support of (Antecedent ∪ Consequent)}}{\\text{Support of Antecedent}}\n",
        "\\]\n",
        "\n",
        "**Example:**\n",
        "- Consider the rule {bread} → {butter}:\n",
        "  - If {bread, butter} appears in 100 transactions, and {bread} appears in 200 transactions, the confidence is:\n",
        "\\[\n",
        "\\text{Confidence} = \\frac{100}{200} = 0.5\n",
        "\\]\n",
        "- This means that in 50% of the transactions where bread is purchased, butter is also purchased.\n",
        "\n",
        "**Importance:**\n",
        "- Confidence provides insight into the reliability of a rule. High confidence means that the rule is frequently true in the dataset."
      ],
      "metadata": {
        "id": "iqdpwbj00mJM"
      }
    },
    {
      "cell_type": "markdown",
      "source": [
        "**3.\tWhat are some limitations or challenges of Association rules mining?**"
      ],
      "metadata": {
        "id": "VcKXr-y4045v"
      }
    },
    {
      "cell_type": "markdown",
      "source": [
        "Association rule mining has some challenges and limitations:\n",
        "\n",
        "1. **Complexity:** It can be slow and use a lot of memory, especially with large datasets.\n",
        "2. **Too Many Rules:** It often generates more rules than are useful, making it hard to find the important ones.\n",
        "3. **Threshold Setting:** Choosing the right support and confidence levels is tricky; too high or too low can both cause problems.\n",
        "4. **Rare Items:** It may miss important but infrequent patterns because of low support.\n",
        "5. **No Causality:** It shows associations but doesn’t prove one item causes another to be bought.\n",
        "6. **Handling High Dimensions:** With many items, it can be hard to find useful patterns.\n",
        "7. **Subjectivity:** Deciding which rules are important can vary by person.\n",
        "8. **Context Ignored:** It doesn’t consider when or by whom items are bought.\n",
        "9. **Continuous Data:** It struggles with non-categorical data unless it’s simplified first."
      ],
      "metadata": {
        "id": "TucmhbkS08Go"
      }
    }
  ]
}