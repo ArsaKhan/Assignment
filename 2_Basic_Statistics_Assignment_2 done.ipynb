{
  "nbformat": 4,
  "nbformat_minor": 0,
  "metadata": {
    "colab": {
      "provenance": []
    },
    "kernelspec": {
      "name": "python3",
      "display_name": "Python 3"
    },
    "language_info": {
      "name": "python"
    }
  },
  "cells": [
    {
      "cell_type": "markdown",
      "source": [
        "***ESTIMATION AND CONFIDENCE INTERVALS***"
      ],
      "metadata": {
        "id": "SeF-CpTQqifd"
      }
    },
    {
      "cell_type": "markdown",
      "source": [
        "**Data:**\n",
        "\n",
        "A total of 15 print-heads were randomly selected and tested until failure. The durability of each print-head (in millions of characters) was recorded as follows:\n",
        "1.13, 1.55, 1.43, 0.92, 1.25, 1.36, 1.32, 0.85, 1.07, 1.48, 1.20, 1.33, 1.18, 1.22, 1.29\n"
      ],
      "metadata": {
        "id": "vDcaQnZbqsss"
      }
    },
    {
      "cell_type": "markdown",
      "source": [
        "**A. Build 99% Confidence Interval Using Sample Standard Deviation**"
      ],
      "metadata": {
        "id": "xXVjK4afqzK7"
      }
    },
    {
      "cell_type": "code",
      "execution_count": 3,
      "metadata": {
        "colab": {
          "base_uri": "https://localhost:8080/"
        },
        "id": "VShkYUCjofmg",
        "outputId": "632d468c-0d0b-42f3-ac32-48112d84769f"
      },
      "outputs": [
        {
          "output_type": "stream",
          "name": "stdout",
          "text": [
            "Sample Mean: 1.2387\n",
            "Sample Standard Deviation: 0.1932\n",
            "T-Value: 2.9768\n",
            "Margin of Error: 0.1485\n",
            "99% Confidence Interval: (1.0902,1.3871)\n",
            "We are 99% confident that the true mean number of characters printed before the print-head fails lies between 1.0902 and 1.3871 million characters.\n"
          ]
        }
      ],
      "source": [
        "import numpy as np\n",
        "import scipy.stats as stats\n",
        "data = np.array([1.13, 1.55, 1.43, 0.92, 1.25, 1.36, 1.32, 0.85, 1.07, 1.48,\n",
        "                 1.20, 1.33, 1.18, 1.22, 1.29])       #data\n",
        "n = len(data)                                         #size\n",
        "mean = np.mean(data)                                  #mean\n",
        "std_dev = np.std(data, ddof=1)                        #Standard deviation\n",
        "confidence = 0.99                                     #Confidence level\n",
        "t_critical = stats.t.ppf((1 + confidence) / 2, n - 1) #Critical value for t-distribution\n",
        "margin_of_error = t_critical * (std_dev / np.sqrt(n))\n",
        "lower_bound = mean - margin_of_error\n",
        "upper_bound = mean + margin_of_error #Margin of error\n",
        "print(f\"Sample Mean: {mean:.4f}\")\n",
        "print(f\"Sample Standard Deviation: {std_dev:.4f}\")\n",
        "print(f\"T-Value: {t_critical:.4f}\")\n",
        "print(f\"Margin of Error: {margin_of_error:.4f}\")\n",
        "print(f\"99% Confidence Interval: ({lower_bound:.4f},{upper_bound:.4f})\")\n",
        "print(f\"We are 99% confident that the true mean number of characters printed before the print-head fails lies between {lower_bound:.4f} and {upper_bound:.4f} million characters.\")"
      ]
    },
    {
      "cell_type": "code",
      "source": [],
      "metadata": {
        "id": "YlvdbOAt5qSC"
      },
      "execution_count": null,
      "outputs": []
    },
    {
      "cell_type": "markdown",
      "source": [
        "**B. Build 99% Confidence Interval Using Known Population Standard Deviation**"
      ],
      "metadata": {
        "id": "CIRITodvsDLQ"
      }
    },
    {
      "cell_type": "code",
      "source": [
        "n = len(data)                                       #size\n",
        "mean = np.mean(data)                                #mean\n",
        "population_stddev = 0.2                             #population standard deviation\n",
        "confidence = 0.99                                   #Confidence level\n",
        "z_critical = stats.norm.ppf((1 + confidence) / 2)   #Critical value for z-distribution\n",
        "margin_of_error = z_critical * (population_stddev / np.sqrt(n))\n",
        "lower_bound = mean - margin_of_error\n",
        "upper_bound = mean + margin_of_error#Margin of error\n",
        "print(f\"Sample Mean: {mean:.4f}\")\n",
        "print(f\"Population Standard Deviation: {population_stddev:.4f}\")\n",
        "print(f\"Z-Critical: {z_critical:.4f}\")\n",
        "print(f\"Margin of Error: {margin_of_error:.4f}\")\n",
        "print(f\"99% Confidence Interval: ({lower_bound:.4f}, {upper_bound:.4f})\")\n",
        "print(f\"We are 99% confident that the true mean number of characters printed before the print-head fails lies between {lower_bound:.4f} and {upper_bound:.4f} million characters.\")\n",
        "\n"
      ],
      "metadata": {
        "colab": {
          "base_uri": "https://localhost:8080/"
        },
        "id": "tVxcsLV3sKqF",
        "outputId": "af321ff9-e7d7-4cba-b0ec-5b13ac86e795"
      },
      "execution_count": 6,
      "outputs": [
        {
          "output_type": "stream",
          "name": "stdout",
          "text": [
            "Sample Mean: 1.2387\n",
            "Population Standard Deviation: 0.2000\n",
            "Z-Critical: 2.5758\n",
            "Margin of Error: 0.1330\n",
            "99% Confidence Interval: (1.1057, 1.3717)\n",
            "We are 99% confident that the true mean number of characters printed before the print-head fails lies between 1.1057 and 1.3717 million characters.\n"
          ]
        }
      ]
    }
  ]
}