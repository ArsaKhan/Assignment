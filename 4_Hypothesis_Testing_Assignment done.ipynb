{
  "nbformat": 4,
  "nbformat_minor": 0,
  "metadata": {
    "colab": {
      "provenance": []
    },
    "kernelspec": {
      "name": "python3",
      "display_name": "Python 3"
    },
    "language_info": {
      "name": "python"
    }
  },
  "cells": [
    {
      "cell_type": "markdown",
      "source": [
        "***HYPOTHESIS TESTING***"
      ],
      "metadata": {
        "id": "i_rw-coIeph-"
      }
    },
    {
      "cell_type": "markdown",
      "source": [
        "**1.STATE THE HYPOTHESIS**\n",
        "\n",
        "**Null Hypothesis (H₀):** There is no association between the type of device and customer satisfaction levels.\n",
        "\n",
        "**Alternative Hypothesis (H₁):** There is an association between the type of device and customer satisfaction levels."
      ],
      "metadata": {
        "id": "kr6TE1M4egPg"
      }
    },
    {
      "cell_type": "markdown",
      "source": [
        "**2.COMPUTE THE CHI-SQUARE STATIC**"
      ],
      "metadata": {
        "id": "26t0b27Yiegc"
      }
    },
    {
      "cell_type": "code",
      "execution_count": null,
      "metadata": {
        "id": "5l_kjAbWaXQc",
        "colab": {
          "base_uri": "https://localhost:8080/"
        },
        "outputId": "1ec9f075-3766-4b89-ea47-c471961f6fc4"
      },
      "outputs": [
        {
          "output_type": "stream",
          "name": "stdout",
          "text": [
            "Chi-Square Statistic: 5.64\n",
            "p-value: 0.22784\n",
            "Degrees of Freedom: 4\n",
            "\n",
            "Expected Frequencies:\n",
            "                  Smart Thermostat  Smart Light\n",
            "Very Satisfied                48.0         72.0\n",
            "Satisfied                     72.0        108.0\n",
            "Neutral                       60.0         90.0\n",
            "Unsatisfied                   32.0         48.0\n",
            "Very Unsatisfied              28.0         42.0\n"
          ]
        }
      ],
      "source": [
        "from scipy.stats import chi2_contingency\n",
        "import pandas as pd\n",
        "\n",
        "# Creating the contingency table\n",
        "data = [[50, 70],\n",
        "        [80, 100],\n",
        "        [60, 90],\n",
        "        [30, 50],\n",
        "        [20, 50]]\n",
        "\n",
        "# Convert to a DataFrame for clarity\n",
        "df = pd.DataFrame(data, columns=['Smart Thermostat', 'Smart Light'])\n",
        "df.index = ['Very Satisfied', 'Satisfied', 'Neutral', 'Unsatisfied', 'Very Unsatisfied']\n",
        "\n",
        "# Performing the Chi-Square test\n",
        "chi2, p, dof, expected = chi2_contingency(df)\n",
        "\n",
        "# Displaying the results\n",
        "print(f\"Chi-Square Statistic: {chi2:.2f}\")\n",
        "print(f\"p-value: {p:.5f}\")\n",
        "print(f\"Degrees of Freedom: {dof}\")\n",
        "print(\"\\nExpected Frequencies:\")\n",
        "print(pd.DataFrame(expected, index=df.index, columns=df.columns))\n"
      ]
    },
    {
      "cell_type": "markdown",
      "source": [
        "**3.DETERMINING THE CRTICAL VALUES**\n",
        "\n",
        "**Degrees of Freedom:** Calculated based on the number of rows and columns in the table.\n",
        "\n",
        "**Critical Value:**Found using the chi-square distribution for the given alpha and degrees of freedom.\n",
        "\n",
        "**Output:** Displays the degrees of freedom and the critical value"
      ],
      "metadata": {
        "id": "KF7dfOJUiP0k"
      }
    },
    {
      "cell_type": "code",
      "source": [
        "from scipy.stats import chi2\n",
        "\n",
        "# Significance level\n",
        "alpha = 0.05\n",
        "\n",
        "# Degrees of Freedom (df)\n",
        "# For this table, df = (number of rows - 1) * (number of columns - 1)\n",
        "# Number of rows = 5, Number of columns = 2\n",
        "df = (len(df.index) - 1) * (len(df.columns) - 1)\n",
        "\n",
        "# Calculating the critical value\n",
        "critical_value = chi2.ppf(1 - alpha, df)\n",
        "\n",
        "# Displaying the result\n",
        "print(\"Degrees of Freedom: {}\".format(df))\n",
        "print(\"Critical Value at alpha = {:.2f}: {:.2f}\".format(alpha, critical_value))\n"
      ],
      "metadata": {
        "colab": {
          "base_uri": "https://localhost:8080/"
        },
        "id": "ye8ukJ8viLRA",
        "outputId": "30b55388-7903-4449-c0b6-1fc70ca1db77"
      },
      "execution_count": null,
      "outputs": [
        {
          "output_type": "stream",
          "name": "stdout",
          "text": [
            "Degrees of Freedom: 4\n",
            "Critical Value at alpha = 0.05: 9.49\n"
          ]
        }
      ]
    },
    {
      "cell_type": "markdown",
      "source": [
        "**4.MAKE A DECISION**\n",
        "Comparing  the Chi-Square Statistic with the Critical Value:\n",
        "* If the Chi-Square statistic is greater than the critical value, reject the null hypothesis(ie., Alternate Hypothesis)\n",
        "* If the Chi-Square statistic is less than or equal to the critical value, do not reject the null hypothesis"
      ],
      "metadata": {
        "id": "xUha1z6Ii43N"
      }
    },
    {
      "cell_type": "code",
      "source": [
        "# Making a decision\n",
        "alpha = 0.05\n",
        "if p < alpha:\n",
        "    print(\"\\nReject the Null Hypothesis: There is a significant association between device type and satisfaction level.\")\n",
        "else:\n",
        "    print(\"\\nFail to Reject the Null Hypothesis: There is no significant association between device type and satisfaction level.\")\n"
      ],
      "metadata": {
        "colab": {
          "base_uri": "https://localhost:8080/"
        },
        "id": "rY1KB2t0i0Kw",
        "outputId": "d78a4764-dbc2-4aa9-a8f3-5bd2d1611e98"
      },
      "execution_count": null,
      "outputs": [
        {
          "output_type": "stream",
          "name": "stdout",
          "text": [
            "\n",
            "Fail to Reject the Null Hypothesis: There is no significant association between device type and satisfaction level.\n"
          ]
        }
      ]
    },
    {
      "cell_type": "markdown",
      "source": [
        "Since the p-value here is greater than 0.05, we shall conclude that **\"Null Hypothesis is True\"**"
      ],
      "metadata": {
        "id": "pfaG44xTmZDS"
      }
    }
  ]
}