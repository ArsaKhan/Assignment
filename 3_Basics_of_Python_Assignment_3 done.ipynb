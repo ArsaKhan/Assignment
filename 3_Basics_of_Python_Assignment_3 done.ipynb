{
  "nbformat": 4,
  "nbformat_minor": 0,
  "metadata": {
    "colab": {
      "provenance": []
    },
    "kernelspec": {
      "name": "python3",
      "display_name": "Python 3"
    },
    "language_info": {
      "name": "python"
    }
  },
  "cells": [
    {
      "cell_type": "markdown",
      "source": [
        "**PYTHON PROGRAMMING ASSIGNMENT**"
      ],
      "metadata": {
        "id": "JH9m5nsGCo3z"
      }
    },
    {
      "cell_type": "markdown",
      "source": [
        "1.To find whether a number is prime or not"
      ],
      "metadata": {
        "id": "j1sMir-ACvXP"
      }
    },
    {
      "cell_type": "code",
      "execution_count": 6,
      "metadata": {
        "colab": {
          "base_uri": "https://localhost:8080/"
        },
        "id": "hV5FMm594wsv",
        "outputId": "35a061d2-8ea9-4db6-a5b1-07838c77bbf0"
      },
      "outputs": [
        {
          "output_type": "stream",
          "name": "stdout",
          "text": [
            "Enter a number: 7\n",
            "7 is a prime number.\n"
          ]
        }
      ],
      "source": [
        "def is_prime(n):\n",
        "    if n <= 1:\n",
        "        return False\n",
        "    if n <= 3:\n",
        "        return True\n",
        "    if n % 2 == 0 or n % 3 == 0:\n",
        "        return False\n",
        "    i = 5\n",
        "    while i * i <= n:\n",
        "        if n % i == 0 or n % (i + 2) == 0:\n",
        "            return False\n",
        "        i += 6\n",
        "    return True\n",
        "number = int(input(\"Enter a number: \"))\n",
        "print(f\"{number} is a prime number.\" if is_prime(number) else f\"{number} is not a prime number.\")\n"
      ]
    },
    {
      "cell_type": "markdown",
      "source": [
        "2.Product of Random Numbers"
      ],
      "metadata": {
        "id": "ruxmpzsYF7-k"
      }
    },
    {
      "cell_type": "code",
      "source": [
        "import random\n",
        "num1 = random.randint(1, 10)       #Two random numbers between 1 and 10\n",
        "num2 = random.randint(1, 10)\n",
        "correct_product = num1 * num2      #Correct product\n",
        "user_answer = int(input(f\"What is the product of {num1} and {num2}? \"))  #enter the product\n",
        "if user_answer == correct_product:  #user's answer is correct\n",
        "    print(\"The Product is Correct!Well done\")\n",
        "else:\n",
        "    print(f\"Incorrect. The correct answer is {correct_product}.\")\n"
      ],
      "metadata": {
        "id": "phl5M3qtCoMc",
        "colab": {
          "base_uri": "https://localhost:8080/"
        },
        "outputId": "8a8faed3-17ab-491b-c88b-2ee7a106df0a"
      },
      "execution_count": 16,
      "outputs": [
        {
          "output_type": "stream",
          "name": "stdout",
          "text": [
            "What is the product of 8 and 6? 48\n",
            "The Product is Correct!Well done\n"
          ]
        }
      ]
    },
    {
      "cell_type": "markdown",
      "source": [
        "3.Squares of Even/Odd Numbers\n"
      ],
      "metadata": {
        "id": "x9JY9GeUG_Vk"
      }
    },
    {
      "cell_type": "code",
      "source": [
        "#the squares of even numbers in the range 100 to 200\n",
        "#range\n",
        "start = 100\n",
        "end = 200\n",
        "for num in range(start, end + 1):\n",
        "    if num % 2 == 0:\n",
        "        square = num ** 2\n",
        "        print(f\"The square of {num} is {square}\")\n"
      ],
      "metadata": {
        "colab": {
          "base_uri": "https://localhost:8080/"
        },
        "id": "lTnI5aT2HJL-",
        "outputId": "47c537c5-6a66-4a25-a3b0-548006d0ad39"
      },
      "execution_count": 20,
      "outputs": [
        {
          "output_type": "stream",
          "name": "stdout",
          "text": [
            "The square of 100 is 10000\n",
            "The square of 102 is 10404\n",
            "The square of 104 is 10816\n",
            "The square of 106 is 11236\n",
            "The square of 108 is 11664\n",
            "The square of 110 is 12100\n",
            "The square of 112 is 12544\n",
            "The square of 114 is 12996\n",
            "The square of 116 is 13456\n",
            "The square of 118 is 13924\n",
            "The square of 120 is 14400\n",
            "The square of 122 is 14884\n",
            "The square of 124 is 15376\n",
            "The square of 126 is 15876\n",
            "The square of 128 is 16384\n",
            "The square of 130 is 16900\n",
            "The square of 132 is 17424\n",
            "The square of 134 is 17956\n",
            "The square of 136 is 18496\n",
            "The square of 138 is 19044\n",
            "The square of 140 is 19600\n",
            "The square of 142 is 20164\n",
            "The square of 144 is 20736\n",
            "The square of 146 is 21316\n",
            "The square of 148 is 21904\n",
            "The square of 150 is 22500\n",
            "The square of 152 is 23104\n",
            "The square of 154 is 23716\n",
            "The square of 156 is 24336\n",
            "The square of 158 is 24964\n",
            "The square of 160 is 25600\n",
            "The square of 162 is 26244\n",
            "The square of 164 is 26896\n",
            "The square of 166 is 27556\n",
            "The square of 168 is 28224\n",
            "The square of 170 is 28900\n",
            "The square of 172 is 29584\n",
            "The square of 174 is 30276\n",
            "The square of 176 is 30976\n",
            "The square of 178 is 31684\n",
            "The square of 180 is 32400\n",
            "The square of 182 is 33124\n",
            "The square of 184 is 33856\n",
            "The square of 186 is 34596\n",
            "The square of 188 is 35344\n",
            "The square of 190 is 36100\n",
            "The square of 192 is 36864\n",
            "The square of 194 is 37636\n",
            "The square of 196 is 38416\n",
            "The square of 198 is 39204\n",
            "The square of 200 is 40000\n"
          ]
        }
      ]
    },
    {
      "cell_type": "markdown",
      "source": [
        "4.Word counter"
      ],
      "metadata": {
        "id": "cCMMKGDyIw_Z"
      }
    },
    {
      "cell_type": "code",
      "source": [
        "def count_words(text):\n",
        "    words = text.split()\n",
        "    word_counts = Counter(words)\n",
        "    return word_counts\n",
        "input_text = input(\"Enter a sentence: \")\n",
        "word_counts = count_words(input_text)\n",
        "print(\"\\nWord counts:\")\n",
        "for word, count in word_counts.items():\n",
        "    print(f\"'{word}': {count}\")\n"
      ],
      "metadata": {
        "colab": {
          "base_uri": "https://localhost:8080/"
        },
        "id": "QmCwy40SIwq1",
        "outputId": "f7e71ce2-6201-4ea7-8eb9-fb503449228d"
      },
      "execution_count": 27,
      "outputs": [
        {
          "output_type": "stream",
          "name": "stdout",
          "text": [
            "Enter a sentence: I am Hifzia\n",
            "\n",
            "Word counts:\n",
            "'I': 1\n",
            "'am': 1\n",
            "'Hifzia': 1\n"
          ]
        }
      ]
    },
    {
      "cell_type": "markdown",
      "source": [
        "5.Check for Palindrome"
      ],
      "metadata": {
        "id": "aijitQ0YKXld"
      }
    },
    {
      "cell_type": "code",
      "source": [
        "import string\n",
        "def is_palindrome(s):\n",
        "    cleaned = ''.join(c.lower() for c in s if c.isalnum())\n",
        "    return cleaned == cleaned[::-1]\n",
        "input_text = input(\"Enter a string: \")\n",
        "if is_palindrome(input_text):\n",
        "    print(\"The string is a palindrome.\")\n",
        "else:\n",
        "    print(\"The string is not a palindrome.\")"
      ],
      "metadata": {
        "colab": {
          "base_uri": "https://localhost:8080/"
        },
        "id": "2KE1Nta6KdcB",
        "outputId": "82510411-b5ab-42ce-9bc3-e0223e6e6a5d"
      },
      "execution_count": 32,
      "outputs": [
        {
          "output_type": "stream",
          "name": "stdout",
          "text": [
            "Enter a string: reviver\n",
            "The string is a palindrome.\n"
          ]
        }
      ]
    }
  ]
}